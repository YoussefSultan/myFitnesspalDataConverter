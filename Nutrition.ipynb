{
 "cells": [
  {
   "cell_type": "code",
   "execution_count": null,
   "source": [
    "import pandas as pd\r\n",
    "df = pd.read_csv(\"Insert-Here.csv\") #import myFitnesspal dataframe through app\r\n",
    "df.drop(index=[0,1,2,3,4,5], inplace = True) #drops all indexes from 2020\r\n",
    "a = df.groupby('Date') #group df by date\r\n",
    "for date, date_df in a:\r\n",
    "    print(date)\r\n",
    "    print(date_df)\r\n",
    "b = a.sum() #sum of calories in Breakfast/Lunch/Dinner/Snacks\r\n",
    "b.index = pd.to_datetime(b.index) #changes dates to datetime format\r\n",
    "b.drop(columns='Note', inplace = True) #drop unneccessary column unless wanted\r\n",
    "b[\"Month\"] = b.index.month_name(locale = 'English') #sets index by month\r\n",
    "c = b.groupby(\"Month\") \r\n",
    "for Month, Month_b in c:\r\n",
    "    print(Month)\r\n",
    "    print(Month_b)\r\n",
    "d = c.mean()"
   ],
   "outputs": [],
   "metadata": {}
  },
  {
   "cell_type": "code",
   "execution_count": null,
   "source": [
    "b.to_csv(\"myFitnesspal_avgbyday.csv\") #shows average macronutrients/micronutrients/vitamins by day\r\n",
    "b"
   ],
   "outputs": [],
   "metadata": {}
  },
  {
   "cell_type": "code",
   "execution_count": null,
   "source": [
    "d.to_csv(\"myFitnesspal_avgbymonth.csv\") #shows average macronutrients/micronutrients/vitamins by month\r\n",
    "d"
   ],
   "outputs": [],
   "metadata": {}
  }
 ],
 "metadata": {
  "orig_nbformat": 4,
  "language_info": {
   "name": "python",
   "version": "3.9.0",
   "mimetype": "text/x-python",
   "codemirror_mode": {
    "name": "ipython",
    "version": 3
   },
   "pygments_lexer": "ipython3",
   "nbconvert_exporter": "python",
   "file_extension": ".py"
  },
  "kernelspec": {
   "name": "python3",
   "display_name": "Python 3.9.0 64-bit"
  },
  "interpreter": {
   "hash": "27f1aa64630c54bb913cc6243e130d29f70b453b256feeafda74e1bc57199250"
  }
 },
 "nbformat": 4,
 "nbformat_minor": 2
}